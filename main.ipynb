{
 "cells": [
  {
   "cell_type": "code",
   "execution_count": 60,
   "metadata": {},
   "outputs": [],
   "source": [
    "import pandas as pd \n",
    "from pandasai import PandasAI\n",
    "from pandasai.llm.openai import OpenAI\n"
   ]
  },
  {
   "attachments": {},
   "cell_type": "markdown",
   "metadata": {},
   "source": []
  },
  {
   "cell_type": "code",
   "execution_count": 61,
   "metadata": {},
   "outputs": [],
   "source": [
    "\n",
    "llm = OpenAI(api_token=\"...\")"
   ]
  },
  {
   "cell_type": "code",
   "execution_count": 62,
   "metadata": {},
   "outputs": [],
   "source": [
    "data=pd.read_csv(\"Feedback - Sentiment Analysis - Sheet1.csv\")"
   ]
  },
  {
   "cell_type": "code",
   "execution_count": 63,
   "metadata": {},
   "outputs": [
    {
     "data": {
      "text/html": [
       "<div>\n",
       "<style scoped>\n",
       "    .dataframe tbody tr th:only-of-type {\n",
       "        vertical-align: middle;\n",
       "    }\n",
       "\n",
       "    .dataframe tbody tr th {\n",
       "        vertical-align: top;\n",
       "    }\n",
       "\n",
       "    .dataframe thead th {\n",
       "        text-align: right;\n",
       "    }\n",
       "</style>\n",
       "<table border=\"1\" class=\"dataframe\">\n",
       "  <thead>\n",
       "    <tr style=\"text-align: right;\">\n",
       "      <th></th>\n",
       "      <th>text</th>\n",
       "    </tr>\n",
       "  </thead>\n",
       "  <tbody>\n",
       "    <tr>\n",
       "      <th>0</th>\n",
       "      <td>Is there anything else you would like to share...</td>\n",
       "    </tr>\n",
       "    <tr>\n",
       "      <th>1</th>\n",
       "      <td>-</td>\n",
       "    </tr>\n",
       "    <tr>\n",
       "      <th>2</th>\n",
       "      <td>The mentor was probably taking the class via m...</td>\n",
       "    </tr>\n",
       "    <tr>\n",
       "      <th>3</th>\n",
       "      <td>excellent session.</td>\n",
       "    </tr>\n",
       "    <tr>\n",
       "      <th>4</th>\n",
       "      <td>It was very helpful to me to observe other's t...</td>\n",
       "    </tr>\n",
       "  </tbody>\n",
       "</table>\n",
       "</div>"
      ],
      "text/plain": [
       "                                                text\n",
       "0  Is there anything else you would like to share...\n",
       "1                                                  -\n",
       "2  The mentor was probably taking the class via m...\n",
       "3                                 excellent session.\n",
       "4  It was very helpful to me to observe other's t..."
      ]
     },
     "execution_count": 63,
     "metadata": {},
     "output_type": "execute_result"
    }
   ],
   "source": [
    "data.head()"
   ]
  },
  {
   "cell_type": "code",
   "execution_count": 68,
   "metadata": {},
   "outputs": [],
   "source": [
    "df2=data.head(15)"
   ]
  },
  {
   "cell_type": "code",
   "execution_count": null,
   "metadata": {},
   "outputs": [],
   "source": []
  },
  {
   "cell_type": "code",
   "execution_count": 64,
   "metadata": {},
   "outputs": [],
   "source": [
    "import openai\n",
    "import pandas as pd\n",
    "from openai.error import InvalidRequestError\n",
    "from tenacity import retry, stop_after_attempt, wait_random_exponential\n",
    "\n",
    "@retry(wait=wait_random_exponential(min=1, max=60), stop=stop_after_attempt(6))\n",
    "def classify(chat: str) -> str:\n",
    "    try:\n",
    "        res = openai.ChatCompletion.create(\n",
    "            model=\"gpt-3.5-turbo\",\n",
    "            temperature=0.5,\n",
    "            messages=[\n",
    "                {\n",
    "                    \"role\": \"system\",\n",
    "                    \"content\": \"\"\"your a text analizer  for me and now your task is to anlayis the text you will get  and you have divied that text into 4\n",
    "                      categories that are \"mentor quality, \n",
    "                     overall session quality, overall content qulaity , overall progream quality and Miscellaneous and then you will do the sentimental anlayis for each test ,\n",
    "                     the output should contains 2 coloums that are which catorgery and sentiment of the sentence and stay idol with resluts without any explianation \n",
    "                     \n",
    "                     example =[\n",
    "                         user: \"The mentor was probably taking the class via mobile and the quality was very poor, specially audio quality. \n",
    "                         He should use a better microphone at least\",\n",
    "                         AI:Mentor Quality,Negative\"\n",
    "                         \n",
    "                     ]\n",
    "                    \n",
    "                    \"\"\",\n",
    "                },\n",
    "                {\"role\": \"user\", \"content\": f\"{str(chat)}\"},\n",
    "            ],\n",
    "        )\n",
    "\n",
    "        print(f'Response {res[\"choices\"][0][\"message\"][\"content\"]}')\n",
    " \n",
    "        return res[\"choices\"][0][\"message\"][\"content\"]\n",
    "\n",
    "    except InvalidRequestError:\n",
    "        print(\"Token exceeded\")\n",
    "\n",
    "    except Exception as e:\n",
    "        raise e"
   ]
  },
  {
   "cell_type": "code",
   "execution_count": 65,
   "metadata": {},
   "outputs": [
    {
     "name": "stdout",
     "output_type": "stream",
     "text": [
      "Response Mentor Quality, Negative\n",
      "Overall Session Quality, Positive\n"
     ]
    }
   ],
   "source": [
    "file=classify(\"The mentor was probably taking the class via mobile and the quality was very poor, specially audio quality. He should use a better microphone at least excellent session\")"
   ]
  },
  {
   "cell_type": "code",
   "execution_count": 69,
   "metadata": {},
   "outputs": [],
   "source": [
    "analysis_list=data[\"text\"].to_list()"
   ]
  },
  {
   "cell_type": "code",
   "execution_count": 70,
   "metadata": {},
   "outputs": [
    {
     "name": "stdout",
     "output_type": "stream",
     "text": [
      "Response No, there is nothing else I would like to share about today's session.\n",
      "Response \n",
      "Response Mentor Quality, Negative\n",
      "Overall Session Quality, Negative\n",
      "Overall Content Quality, Neutral\n",
      "Overall Program Quality, Neutral\n",
      "Miscellaneous, Neutral\n",
      "Response Overall Session Quality, Positive\n",
      "Response Overall Session Quality,Positive\n",
      "Response Overall Session Quality, Negative\n",
      "Response Miscellaneous, Neutral\n",
      "Response Overall Session Quality, Positive\n",
      "Response Miscellaneous, Neutral\n",
      "Response I'm sorry, but I need a text input in order to analyze it. Could you please provide a text for me to analyze?\n",
      "Response Overall Session Quality, Positive\n",
      "Response Mentor Quality, Positive\n",
      "Response text provided.\n",
      "Response Miscellaneous, Positive\n",
      "Response Overall Session Quality,Positive\n"
     ]
    }
   ],
   "source": [
    "dist={}\n",
    "for i in analysis_list:\n",
    "    dist[i]=classify(i)"
   ]
  },
  {
   "cell_type": "code",
   "execution_count": 74,
   "metadata": {},
   "outputs": [],
   "source": [
    "import json\n"
   ]
  },
  {
   "cell_type": "code",
   "execution_count": 75,
   "metadata": {},
   "outputs": [],
   "source": [
    "with open('fpq.json', 'w') as fp:\n",
    "    json.dump(dist, fp)"
   ]
  },
  {
   "cell_type": "code",
   "execution_count": 77,
   "metadata": {},
   "outputs": [],
   "source": [
    "json=pd.read_json(\"fpq.json\",orient=\"index\")"
   ]
  },
  {
   "cell_type": "code",
   "execution_count": 79,
   "metadata": {},
   "outputs": [
    {
     "data": {
      "text/html": [
       "<div>\n",
       "<style scoped>\n",
       "    .dataframe tbody tr th:only-of-type {\n",
       "        vertical-align: middle;\n",
       "    }\n",
       "\n",
       "    .dataframe tbody tr th {\n",
       "        vertical-align: top;\n",
       "    }\n",
       "\n",
       "    .dataframe thead th {\n",
       "        text-align: right;\n",
       "    }\n",
       "</style>\n",
       "<table border=\"1\" class=\"dataframe\">\n",
       "  <thead>\n",
       "    <tr style=\"text-align: right;\">\n",
       "      <th></th>\n",
       "      <th>0</th>\n",
       "    </tr>\n",
       "  </thead>\n",
       "  <tbody>\n",
       "    <tr>\n",
       "      <th>Is there anything else you would like to share with us about today's session ?</th>\n",
       "      <td>No, there is nothing else I would like to shar...</td>\n",
       "    </tr>\n",
       "    <tr>\n",
       "      <th>-</th>\n",
       "      <td>Overall Session Quality, Negative</td>\n",
       "    </tr>\n",
       "    <tr>\n",
       "      <th>The mentor was probably taking the class via mobile and the quality was very poor, specially audio quality. He should use a better microphone at least.</th>\n",
       "      <td>Mentor Quality, Negative\\nOverall Session Qual...</td>\n",
       "    </tr>\n",
       "    <tr>\n",
       "      <th>excellent session.</th>\n",
       "      <td>Overall Session Quality, Positive</td>\n",
       "    </tr>\n",
       "    <tr>\n",
       "      <th>It was very helpful to me to observe other's talking , so it is like an opportunity for me to look at other and learn from them\\r\\n</th>\n",
       "      <td>Overall Session Quality,Positive</td>\n",
       "    </tr>\n",
       "  </tbody>\n",
       "</table>\n",
       "</div>"
      ],
      "text/plain": [
       "                                                                                                    0\n",
       "Is there anything else you would like to share ...  No, there is nothing else I would like to shar...\n",
       "-                                                                   Overall Session Quality, Negative\n",
       "The mentor was probably taking the class via mo...  Mentor Quality, Negative\\nOverall Session Qual...\n",
       "excellent session.                                                  Overall Session Quality, Positive\n",
       "It was very helpful to me to observe other's ta...                   Overall Session Quality,Positive"
      ]
     },
     "execution_count": 79,
     "metadata": {},
     "output_type": "execute_result"
    }
   ],
   "source": [
    "json.head()"
   ]
  },
  {
   "cell_type": "code",
   "execution_count": 80,
   "metadata": {},
   "outputs": [],
   "source": [
    "json.to_csv(\"fpq.csv\")"
   ]
  },
  {
   "cell_type": "code",
   "execution_count": null,
   "metadata": {},
   "outputs": [],
   "source": []
  }
 ],
 "metadata": {
  "kernelspec": {
   "display_name": "Python 3",
   "language": "python",
   "name": "python3"
  },
  "language_info": {
   "codemirror_mode": {
    "name": "ipython",
    "version": 3
   },
   "file_extension": ".py",
   "mimetype": "text/x-python",
   "name": "python",
   "nbconvert_exporter": "python",
   "pygments_lexer": "ipython3",
   "version": "3.9.16"
  },
  "orig_nbformat": 4
 },
 "nbformat": 4,
 "nbformat_minor": 2
}
